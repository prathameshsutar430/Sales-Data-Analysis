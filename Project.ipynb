{
 "cells": [
  {
   "cell_type": "code",
   "execution_count": 1,
   "id": "3f89fbd3-7caf-401d-862f-fe4ffad8a903",
   "metadata": {},
   "outputs": [],
   "source": [
    "import numpy as np"
   ]
  },
  {
   "cell_type": "code",
   "execution_count": 2,
   "id": "325d0d6b-8f0b-44ff-a8ae-228cb9c74d46",
   "metadata": {},
   "outputs": [],
   "source": [
    "import pandas as pd"
   ]
  },
  {
   "cell_type": "code",
   "execution_count": 3,
   "id": "ee682ee2-b5de-4ded-93f5-71e705fe3347",
   "metadata": {},
   "outputs": [],
   "source": [
    "df = pd.read_excel('C:\\\\PythonLibraries\\\\Project\\\\Sales Data.xlsx')"
   ]
  },
  {
   "cell_type": "code",
   "execution_count": 4,
   "id": "2cc0ad38-7d3a-4d4e-bb0b-eb12f8b45556",
   "metadata": {},
   "outputs": [
    {
     "data": {
      "text/plain": [
       "(1081, 15)"
      ]
     },
     "execution_count": 4,
     "metadata": {},
     "output_type": "execute_result"
    }
   ],
   "source": [
    "df.shape"
   ]
  },
  {
   "cell_type": "code",
   "execution_count": 5,
   "id": "8650daab-1254-4e6c-8753-6872f664f5d8",
   "metadata": {},
   "outputs": [
    {
     "data": {
      "text/html": [
       "<div>\n",
       "<style scoped>\n",
       "    .dataframe tbody tr th:only-of-type {\n",
       "        vertical-align: middle;\n",
       "    }\n",
       "\n",
       "    .dataframe tbody tr th {\n",
       "        vertical-align: top;\n",
       "    }\n",
       "\n",
       "    .dataframe thead th {\n",
       "        text-align: right;\n",
       "    }\n",
       "</style>\n",
       "<table border=\"1\" class=\"dataframe\">\n",
       "  <thead>\n",
       "    <tr style=\"text-align: right;\">\n",
       "      <th></th>\n",
       "      <th>User_ID</th>\n",
       "      <th>Cust_name</th>\n",
       "      <th>Product_ID</th>\n",
       "      <th>Gender</th>\n",
       "      <th>Age Group</th>\n",
       "      <th>Age</th>\n",
       "      <th>Marital_Status</th>\n",
       "      <th>State</th>\n",
       "      <th>Zone</th>\n",
       "      <th>Occupation</th>\n",
       "      <th>Product_Category</th>\n",
       "      <th>Orders</th>\n",
       "      <th>Amount</th>\n",
       "      <th>Status</th>\n",
       "      <th>unnamed1</th>\n",
       "    </tr>\n",
       "  </thead>\n",
       "  <tbody>\n",
       "    <tr>\n",
       "      <th>0</th>\n",
       "      <td>1002903</td>\n",
       "      <td>Sanskriti</td>\n",
       "      <td>P00125942</td>\n",
       "      <td>F</td>\n",
       "      <td>26-35</td>\n",
       "      <td>28</td>\n",
       "      <td>0</td>\n",
       "      <td>Maharashtra</td>\n",
       "      <td>Western</td>\n",
       "      <td>Healthcare</td>\n",
       "      <td>Auto</td>\n",
       "      <td>1</td>\n",
       "      <td>23952.0</td>\n",
       "      <td>NaN</td>\n",
       "      <td>NaN</td>\n",
       "    </tr>\n",
       "    <tr>\n",
       "      <th>1</th>\n",
       "      <td>1000732</td>\n",
       "      <td>Kartik</td>\n",
       "      <td>P00110942</td>\n",
       "      <td>F</td>\n",
       "      <td>26-35</td>\n",
       "      <td>35</td>\n",
       "      <td>1</td>\n",
       "      <td>Andhra Pradesh</td>\n",
       "      <td>Southern</td>\n",
       "      <td>Govt</td>\n",
       "      <td>Auto</td>\n",
       "      <td>3</td>\n",
       "      <td>23934.0</td>\n",
       "      <td>NaN</td>\n",
       "      <td>NaN</td>\n",
       "    </tr>\n",
       "    <tr>\n",
       "      <th>2</th>\n",
       "      <td>1001990</td>\n",
       "      <td>Bindu</td>\n",
       "      <td>P00118542</td>\n",
       "      <td>F</td>\n",
       "      <td>26-35</td>\n",
       "      <td>35</td>\n",
       "      <td>1</td>\n",
       "      <td>Uttar Pradesh</td>\n",
       "      <td>Central</td>\n",
       "      <td>Automobile</td>\n",
       "      <td>Auto</td>\n",
       "      <td>3</td>\n",
       "      <td>23924.0</td>\n",
       "      <td>NaN</td>\n",
       "      <td>NaN</td>\n",
       "    </tr>\n",
       "    <tr>\n",
       "      <th>3</th>\n",
       "      <td>1001425</td>\n",
       "      <td>Sudevi</td>\n",
       "      <td>P00237842</td>\n",
       "      <td>M</td>\n",
       "      <td>0-17</td>\n",
       "      <td>16</td>\n",
       "      <td>0</td>\n",
       "      <td>Karnataka</td>\n",
       "      <td>Southern</td>\n",
       "      <td>Construction</td>\n",
       "      <td>Auto</td>\n",
       "      <td>2</td>\n",
       "      <td>23912.0</td>\n",
       "      <td>NaN</td>\n",
       "      <td>NaN</td>\n",
       "    </tr>\n",
       "    <tr>\n",
       "      <th>4</th>\n",
       "      <td>1000588</td>\n",
       "      <td>Joni</td>\n",
       "      <td>P00057942</td>\n",
       "      <td>M</td>\n",
       "      <td>26-35</td>\n",
       "      <td>28</td>\n",
       "      <td>1</td>\n",
       "      <td>Gujarat</td>\n",
       "      <td>Western</td>\n",
       "      <td>Food Processing</td>\n",
       "      <td>Auto</td>\n",
       "      <td>2</td>\n",
       "      <td>23877.0</td>\n",
       "      <td>NaN</td>\n",
       "      <td>NaN</td>\n",
       "    </tr>\n",
       "  </tbody>\n",
       "</table>\n",
       "</div>"
      ],
      "text/plain": [
       "   User_ID  Cust_name Product_ID Gender Age Group  Age  Marital_Status  \\\n",
       "0  1002903  Sanskriti  P00125942      F     26-35   28               0   \n",
       "1  1000732     Kartik  P00110942      F     26-35   35               1   \n",
       "2  1001990      Bindu  P00118542      F     26-35   35               1   \n",
       "3  1001425     Sudevi  P00237842      M      0-17   16               0   \n",
       "4  1000588       Joni  P00057942      M     26-35   28               1   \n",
       "\n",
       "            State      Zone       Occupation Product_Category  Orders  \\\n",
       "0     Maharashtra   Western       Healthcare             Auto       1   \n",
       "1  Andhra Pradesh  Southern             Govt             Auto       3   \n",
       "2   Uttar Pradesh   Central       Automobile             Auto       3   \n",
       "3       Karnataka  Southern     Construction             Auto       2   \n",
       "4         Gujarat   Western  Food Processing             Auto       2   \n",
       "\n",
       "    Amount  Status  unnamed1  \n",
       "0  23952.0     NaN       NaN  \n",
       "1  23934.0     NaN       NaN  \n",
       "2  23924.0     NaN       NaN  \n",
       "3  23912.0     NaN       NaN  \n",
       "4  23877.0     NaN       NaN  "
      ]
     },
     "execution_count": 5,
     "metadata": {},
     "output_type": "execute_result"
    }
   ],
   "source": [
    "df.head()"
   ]
  },
  {
   "cell_type": "code",
   "execution_count": 6,
   "id": "7fc8da7a-fbd2-478d-a26e-06fa4f3a7ff4",
   "metadata": {},
   "outputs": [
    {
     "name": "stdout",
     "output_type": "stream",
     "text": [
      "<class 'pandas.core.frame.DataFrame'>\n",
      "RangeIndex: 1081 entries, 0 to 1080\n",
      "Data columns (total 15 columns):\n",
      " #   Column            Non-Null Count  Dtype  \n",
      "---  ------            --------------  -----  \n",
      " 0   User_ID           1081 non-null   int64  \n",
      " 1   Cust_name         1081 non-null   object \n",
      " 2   Product_ID        1081 non-null   object \n",
      " 3   Gender            1081 non-null   object \n",
      " 4   Age Group         1081 non-null   object \n",
      " 5   Age               1081 non-null   int64  \n",
      " 6   Marital_Status    1081 non-null   int64  \n",
      " 7   State             1081 non-null   object \n",
      " 8   Zone              1081 non-null   object \n",
      " 9   Occupation        1081 non-null   object \n",
      " 10  Product_Category  1081 non-null   object \n",
      " 11  Orders            1081 non-null   int64  \n",
      " 12  Amount            1069 non-null   float64\n",
      " 13  Status            0 non-null      float64\n",
      " 14  unnamed1          0 non-null      float64\n",
      "dtypes: float64(3), int64(4), object(8)\n",
      "memory usage: 126.8+ KB\n"
     ]
    }
   ],
   "source": [
    "df.info()"
   ]
  },
  {
   "cell_type": "code",
   "execution_count": 7,
   "id": "09d52009-fa8e-4a20-b9bb-d7c745b2be60",
   "metadata": {},
   "outputs": [],
   "source": [
    "df.drop(['Status','unnamed1'], axis=1 , inplace=True)"
   ]
  },
  {
   "cell_type": "code",
   "execution_count": 8,
   "id": "78fbb006-2a0b-4cda-a28b-8d4e6ee79a67",
   "metadata": {},
   "outputs": [
    {
     "name": "stdout",
     "output_type": "stream",
     "text": [
      "<class 'pandas.core.frame.DataFrame'>\n",
      "RangeIndex: 1081 entries, 0 to 1080\n",
      "Data columns (total 13 columns):\n",
      " #   Column            Non-Null Count  Dtype  \n",
      "---  ------            --------------  -----  \n",
      " 0   User_ID           1081 non-null   int64  \n",
      " 1   Cust_name         1081 non-null   object \n",
      " 2   Product_ID        1081 non-null   object \n",
      " 3   Gender            1081 non-null   object \n",
      " 4   Age Group         1081 non-null   object \n",
      " 5   Age               1081 non-null   int64  \n",
      " 6   Marital_Status    1081 non-null   int64  \n",
      " 7   State             1081 non-null   object \n",
      " 8   Zone              1081 non-null   object \n",
      " 9   Occupation        1081 non-null   object \n",
      " 10  Product_Category  1081 non-null   object \n",
      " 11  Orders            1081 non-null   int64  \n",
      " 12  Amount            1069 non-null   float64\n",
      "dtypes: float64(1), int64(4), object(8)\n",
      "memory usage: 109.9+ KB\n"
     ]
    }
   ],
   "source": [
    "df.info()"
   ]
  },
  {
   "cell_type": "code",
   "execution_count": 9,
   "id": "281be971-6ae7-4dcb-aedf-27d7ded159d8",
   "metadata": {},
   "outputs": [
    {
     "data": {
      "text/html": [
       "<div>\n",
       "<style scoped>\n",
       "    .dataframe tbody tr th:only-of-type {\n",
       "        vertical-align: middle;\n",
       "    }\n",
       "\n",
       "    .dataframe tbody tr th {\n",
       "        vertical-align: top;\n",
       "    }\n",
       "\n",
       "    .dataframe thead th {\n",
       "        text-align: right;\n",
       "    }\n",
       "</style>\n",
       "<table border=\"1\" class=\"dataframe\">\n",
       "  <thead>\n",
       "    <tr style=\"text-align: right;\">\n",
       "      <th></th>\n",
       "      <th>User_ID</th>\n",
       "      <th>Cust_name</th>\n",
       "      <th>Product_ID</th>\n",
       "      <th>Gender</th>\n",
       "      <th>Age Group</th>\n",
       "      <th>Age</th>\n",
       "      <th>Marital_Status</th>\n",
       "      <th>State</th>\n",
       "      <th>Zone</th>\n",
       "      <th>Occupation</th>\n",
       "      <th>Product_Category</th>\n",
       "      <th>Orders</th>\n",
       "      <th>Amount</th>\n",
       "    </tr>\n",
       "  </thead>\n",
       "  <tbody>\n",
       "    <tr>\n",
       "      <th>0</th>\n",
       "      <td>False</td>\n",
       "      <td>False</td>\n",
       "      <td>False</td>\n",
       "      <td>False</td>\n",
       "      <td>False</td>\n",
       "      <td>False</td>\n",
       "      <td>False</td>\n",
       "      <td>False</td>\n",
       "      <td>False</td>\n",
       "      <td>False</td>\n",
       "      <td>False</td>\n",
       "      <td>False</td>\n",
       "      <td>False</td>\n",
       "    </tr>\n",
       "    <tr>\n",
       "      <th>1</th>\n",
       "      <td>False</td>\n",
       "      <td>False</td>\n",
       "      <td>False</td>\n",
       "      <td>False</td>\n",
       "      <td>False</td>\n",
       "      <td>False</td>\n",
       "      <td>False</td>\n",
       "      <td>False</td>\n",
       "      <td>False</td>\n",
       "      <td>False</td>\n",
       "      <td>False</td>\n",
       "      <td>False</td>\n",
       "      <td>False</td>\n",
       "    </tr>\n",
       "    <tr>\n",
       "      <th>2</th>\n",
       "      <td>False</td>\n",
       "      <td>False</td>\n",
       "      <td>False</td>\n",
       "      <td>False</td>\n",
       "      <td>False</td>\n",
       "      <td>False</td>\n",
       "      <td>False</td>\n",
       "      <td>False</td>\n",
       "      <td>False</td>\n",
       "      <td>False</td>\n",
       "      <td>False</td>\n",
       "      <td>False</td>\n",
       "      <td>False</td>\n",
       "    </tr>\n",
       "    <tr>\n",
       "      <th>3</th>\n",
       "      <td>False</td>\n",
       "      <td>False</td>\n",
       "      <td>False</td>\n",
       "      <td>False</td>\n",
       "      <td>False</td>\n",
       "      <td>False</td>\n",
       "      <td>False</td>\n",
       "      <td>False</td>\n",
       "      <td>False</td>\n",
       "      <td>False</td>\n",
       "      <td>False</td>\n",
       "      <td>False</td>\n",
       "      <td>False</td>\n",
       "    </tr>\n",
       "    <tr>\n",
       "      <th>4</th>\n",
       "      <td>False</td>\n",
       "      <td>False</td>\n",
       "      <td>False</td>\n",
       "      <td>False</td>\n",
       "      <td>False</td>\n",
       "      <td>False</td>\n",
       "      <td>False</td>\n",
       "      <td>False</td>\n",
       "      <td>False</td>\n",
       "      <td>False</td>\n",
       "      <td>False</td>\n",
       "      <td>False</td>\n",
       "      <td>False</td>\n",
       "    </tr>\n",
       "    <tr>\n",
       "      <th>...</th>\n",
       "      <td>...</td>\n",
       "      <td>...</td>\n",
       "      <td>...</td>\n",
       "      <td>...</td>\n",
       "      <td>...</td>\n",
       "      <td>...</td>\n",
       "      <td>...</td>\n",
       "      <td>...</td>\n",
       "      <td>...</td>\n",
       "      <td>...</td>\n",
       "      <td>...</td>\n",
       "      <td>...</td>\n",
       "      <td>...</td>\n",
       "    </tr>\n",
       "    <tr>\n",
       "      <th>1076</th>\n",
       "      <td>False</td>\n",
       "      <td>False</td>\n",
       "      <td>False</td>\n",
       "      <td>False</td>\n",
       "      <td>False</td>\n",
       "      <td>False</td>\n",
       "      <td>False</td>\n",
       "      <td>False</td>\n",
       "      <td>False</td>\n",
       "      <td>False</td>\n",
       "      <td>False</td>\n",
       "      <td>False</td>\n",
       "      <td>False</td>\n",
       "    </tr>\n",
       "    <tr>\n",
       "      <th>1077</th>\n",
       "      <td>False</td>\n",
       "      <td>False</td>\n",
       "      <td>False</td>\n",
       "      <td>False</td>\n",
       "      <td>False</td>\n",
       "      <td>False</td>\n",
       "      <td>False</td>\n",
       "      <td>False</td>\n",
       "      <td>False</td>\n",
       "      <td>False</td>\n",
       "      <td>False</td>\n",
       "      <td>False</td>\n",
       "      <td>False</td>\n",
       "    </tr>\n",
       "    <tr>\n",
       "      <th>1078</th>\n",
       "      <td>False</td>\n",
       "      <td>False</td>\n",
       "      <td>False</td>\n",
       "      <td>False</td>\n",
       "      <td>False</td>\n",
       "      <td>False</td>\n",
       "      <td>False</td>\n",
       "      <td>False</td>\n",
       "      <td>False</td>\n",
       "      <td>False</td>\n",
       "      <td>False</td>\n",
       "      <td>False</td>\n",
       "      <td>False</td>\n",
       "    </tr>\n",
       "    <tr>\n",
       "      <th>1079</th>\n",
       "      <td>False</td>\n",
       "      <td>False</td>\n",
       "      <td>False</td>\n",
       "      <td>False</td>\n",
       "      <td>False</td>\n",
       "      <td>False</td>\n",
       "      <td>False</td>\n",
       "      <td>False</td>\n",
       "      <td>False</td>\n",
       "      <td>False</td>\n",
       "      <td>False</td>\n",
       "      <td>False</td>\n",
       "      <td>False</td>\n",
       "    </tr>\n",
       "    <tr>\n",
       "      <th>1080</th>\n",
       "      <td>False</td>\n",
       "      <td>False</td>\n",
       "      <td>False</td>\n",
       "      <td>False</td>\n",
       "      <td>False</td>\n",
       "      <td>False</td>\n",
       "      <td>False</td>\n",
       "      <td>False</td>\n",
       "      <td>False</td>\n",
       "      <td>False</td>\n",
       "      <td>False</td>\n",
       "      <td>False</td>\n",
       "      <td>False</td>\n",
       "    </tr>\n",
       "  </tbody>\n",
       "</table>\n",
       "<p>1081 rows × 13 columns</p>\n",
       "</div>"
      ],
      "text/plain": [
       "      User_ID  Cust_name  Product_ID  Gender  Age Group    Age  \\\n",
       "0       False      False       False   False      False  False   \n",
       "1       False      False       False   False      False  False   \n",
       "2       False      False       False   False      False  False   \n",
       "3       False      False       False   False      False  False   \n",
       "4       False      False       False   False      False  False   \n",
       "...       ...        ...         ...     ...        ...    ...   \n",
       "1076    False      False       False   False      False  False   \n",
       "1077    False      False       False   False      False  False   \n",
       "1078    False      False       False   False      False  False   \n",
       "1079    False      False       False   False      False  False   \n",
       "1080    False      False       False   False      False  False   \n",
       "\n",
       "      Marital_Status  State   Zone  Occupation  Product_Category  Orders  \\\n",
       "0              False  False  False       False             False   False   \n",
       "1              False  False  False       False             False   False   \n",
       "2              False  False  False       False             False   False   \n",
       "3              False  False  False       False             False   False   \n",
       "4              False  False  False       False             False   False   \n",
       "...              ...    ...    ...         ...               ...     ...   \n",
       "1076           False  False  False       False             False   False   \n",
       "1077           False  False  False       False             False   False   \n",
       "1078           False  False  False       False             False   False   \n",
       "1079           False  False  False       False             False   False   \n",
       "1080           False  False  False       False             False   False   \n",
       "\n",
       "      Amount  \n",
       "0      False  \n",
       "1      False  \n",
       "2      False  \n",
       "3      False  \n",
       "4      False  \n",
       "...      ...  \n",
       "1076   False  \n",
       "1077   False  \n",
       "1078   False  \n",
       "1079   False  \n",
       "1080   False  \n",
       "\n",
       "[1081 rows x 13 columns]"
      ]
     },
     "execution_count": 9,
     "metadata": {},
     "output_type": "execute_result"
    }
   ],
   "source": [
    "pd.isnull(df)"
   ]
  },
  {
   "cell_type": "code",
   "execution_count": 10,
   "id": "993b9b08-d61e-4603-bdeb-c2e15428934d",
   "metadata": {},
   "outputs": [
    {
     "data": {
      "text/plain": [
       "User_ID              0\n",
       "Cust_name            0\n",
       "Product_ID           0\n",
       "Gender               0\n",
       "Age Group            0\n",
       "Age                  0\n",
       "Marital_Status       0\n",
       "State                0\n",
       "Zone                 0\n",
       "Occupation           0\n",
       "Product_Category     0\n",
       "Orders               0\n",
       "Amount              12\n",
       "dtype: int64"
      ]
     },
     "execution_count": 10,
     "metadata": {},
     "output_type": "execute_result"
    }
   ],
   "source": [
    "pd.isnull(df).sum()"
   ]
  },
  {
   "cell_type": "code",
   "execution_count": 11,
   "id": "1f5090f0-643e-4071-9858-08f8d0ec0257",
   "metadata": {},
   "outputs": [],
   "source": [
    "df.dropna(inplace=True)"
   ]
  },
  {
   "cell_type": "code",
   "execution_count": 12,
   "id": "9ef74d25-456f-4f92-a680-8ffdbd3e06d8",
   "metadata": {},
   "outputs": [
    {
     "data": {
      "text/plain": [
       "User_ID             0\n",
       "Cust_name           0\n",
       "Product_ID          0\n",
       "Gender              0\n",
       "Age Group           0\n",
       "Age                 0\n",
       "Marital_Status      0\n",
       "State               0\n",
       "Zone                0\n",
       "Occupation          0\n",
       "Product_Category    0\n",
       "Orders              0\n",
       "Amount              0\n",
       "dtype: int64"
      ]
     },
     "execution_count": 12,
     "metadata": {},
     "output_type": "execute_result"
    }
   ],
   "source": [
    "pd.isnull(df).sum()"
   ]
  },
  {
   "cell_type": "code",
   "execution_count": 13,
   "id": "a4f335bd-9edf-492f-a6cf-25538a10da07",
   "metadata": {},
   "outputs": [],
   "source": [
    "df['Amount'] = df['Amount'].astype('int')"
   ]
  },
  {
   "cell_type": "code",
   "execution_count": 14,
   "id": "92fa8e53-af27-48a8-9c56-f3e4a494f264",
   "metadata": {},
   "outputs": [
    {
     "data": {
      "text/plain": [
       "dtype('int64')"
      ]
     },
     "execution_count": 14,
     "metadata": {},
     "output_type": "execute_result"
    }
   ],
   "source": [
    "df['Amount'].dtype"
   ]
  },
  {
   "cell_type": "code",
   "execution_count": 15,
   "id": "c91f5842-28cb-4aaf-bc27-602cd900263c",
   "metadata": {},
   "outputs": [],
   "source": [
    "df['Marital_Status'] = df['Marital_Status'].map({1: 'Yes', 0: 'No'})"
   ]
  },
  {
   "cell_type": "code",
   "execution_count": 16,
   "id": "3af27aa0-6f96-46f1-8da9-6e8cb73de47b",
   "metadata": {},
   "outputs": [
    {
     "data": {
      "text/plain": [
       "Index(['User_ID', 'Cust_name', 'Product_ID', 'Gender', 'Age Group', 'Age',\n",
       "       'Marital_Status', 'State', 'Zone', 'Occupation', 'Product_Category',\n",
       "       'Orders', 'Amount'],\n",
       "      dtype='object')"
      ]
     },
     "execution_count": 16,
     "metadata": {},
     "output_type": "execute_result"
    }
   ],
   "source": [
    "df.columns"
   ]
  },
  {
   "cell_type": "code",
   "execution_count": 17,
   "id": "64aab8a6-b201-4ca5-873f-32c1d6b1b046",
   "metadata": {},
   "outputs": [],
   "source": [
    "category_revenue = df.groupby('Product_Category')['Amount'].sum().sort_values(ascending=False)"
   ]
  },
  {
   "cell_type": "code",
   "execution_count": 18,
   "id": "d33ce093-f7f3-49e3-8ddf-4000d38042d1",
   "metadata": {},
   "outputs": [
    {
     "name": "stdout",
     "output_type": "stream",
     "text": [
      "Product_Category\n",
      "Food                  10013578\n",
      "Footwear & Shoes       5379412\n",
      "Furniture              2066800\n",
      "Auto                   1773753\n",
      "Stationery             1051991\n",
      "Tupperware              611806\n",
      "Hand & Power Tools      218176\n",
      "Name: Amount, dtype: int64\n"
     ]
    }
   ],
   "source": [
    "print(category_revenue)"
   ]
  },
  {
   "cell_type": "code",
   "execution_count": 19,
   "id": "c421b870-16a4-4183-81a4-2119b6a80440",
   "metadata": {},
   "outputs": [],
   "source": [
    "zone_summary = df.groupby('Zone')[['Orders', 'Amount']].sum().sort_values(by='Amount', ascending=False)"
   ]
  },
  {
   "cell_type": "code",
   "execution_count": 20,
   "id": "43ab461b-b977-41cf-bf73-d124fb51209b",
   "metadata": {},
   "outputs": [
    {
     "name": "stdout",
     "output_type": "stream",
     "text": [
      "          Orders   Amount\n",
      "Zone                     \n",
      "Central     1122  9054063\n",
      "Southern     799  6286628\n",
      "Western      396  3191172\n",
      "Northern     220  1698211\n",
      "Eastern      108   885442\n"
     ]
    }
   ],
   "source": [
    "print(zone_summary)"
   ]
  },
  {
   "cell_type": "code",
   "execution_count": 21,
   "id": "42929505-48b7-4bef-81bf-3f57f649acbd",
   "metadata": {},
   "outputs": [],
   "source": [
    "gender_summary = df.groupby('Gender')[['Orders', 'Amount']].sum()"
   ]
  },
  {
   "cell_type": "code",
   "execution_count": 22,
   "id": "aaa166c9-8e68-4c0a-b148-7abbed798f09",
   "metadata": {},
   "outputs": [
    {
     "name": "stdout",
     "output_type": "stream",
     "text": [
      "        Orders    Amount\n",
      "Gender                  \n",
      "F         1844  14552421\n",
      "M          801   6563095\n"
     ]
    }
   ],
   "source": [
    "print(gender_summary)"
   ]
  },
  {
   "cell_type": "code",
   "execution_count": 23,
   "id": "ff977de8-a59c-4d46-bc86-53717e4f928e",
   "metadata": {},
   "outputs": [],
   "source": [
    "age_summary = df.groupby('Age Group')[['Orders', 'Amount']].sum().sort_values(by='Amount', ascending=False)"
   ]
  },
  {
   "cell_type": "code",
   "execution_count": 24,
   "id": "05f16627-f9f3-4a81-9d12-ababcb45bb6a",
   "metadata": {},
   "outputs": [
    {
     "name": "stdout",
     "output_type": "stream",
     "text": [
      "           Orders   Amount\n",
      "Age Group                 \n",
      "26-35        1091  8444952\n",
      "36-45         555  4483779\n",
      "18-25         418  3344714\n",
      "51-55         232  1864258\n",
      "46-50         188  1727136\n",
      "55+           107   795699\n",
      "0-17           54   454978\n"
     ]
    }
   ],
   "source": [
    "print(age_summary)"
   ]
  },
  {
   "cell_type": "code",
   "execution_count": 25,
   "id": "21f37710-3477-4a9e-990a-10823798fedc",
   "metadata": {},
   "outputs": [],
   "source": [
    "top_customers = df.groupby(['Cust_name'])['Amount'].sum().sort_values(ascending=False).head(10)"
   ]
  },
  {
   "cell_type": "code",
   "execution_count": 26,
   "id": "7b59c057-b826-4d62-a170-3ac15fe2d75f",
   "metadata": {},
   "outputs": [
    {
     "name": "stdout",
     "output_type": "stream",
     "text": [
      "Cust_name\n",
      "Neola       184746\n",
      "Bhawna      117464\n",
      "Sandra      116806\n",
      "Vasudev     100650\n",
      "Mahima      100447\n",
      "James        98567\n",
      "Ginny        96619\n",
      "Martinez     95387\n",
      "Gelder       92952\n",
      "Kushal       84260\n",
      "Name: Amount, dtype: int64\n"
     ]
    }
   ],
   "source": [
    "print(top_customers)"
   ]
  },
  {
   "cell_type": "code",
   "execution_count": 27,
   "id": "5b92f3d1-8d01-4037-a9de-674e08ccf860",
   "metadata": {},
   "outputs": [],
   "source": [
    "occupation_spending = df.groupby('Occupation')['Amount'].sum().sort_values(ascending=False)"
   ]
  },
  {
   "cell_type": "code",
   "execution_count": 28,
   "id": "c4dba8c8-3154-43ea-b563-07ac1cfb5d34",
   "metadata": {},
   "outputs": [
    {
     "name": "stdout",
     "output_type": "stream",
     "text": [
      "Occupation\n",
      "IT Sector          2929246\n",
      "Aviation           2740848\n",
      "Healthcare         2635745\n",
      "Banking            2078794\n",
      "Govt               1893160\n",
      "Media              1290120\n",
      "Automobile         1190908\n",
      "Chemical           1177567\n",
      "Retail              950133\n",
      "Food Processing     879172\n",
      "Hospitality         851021\n",
      "Lawyer              787348\n",
      "Construction        721301\n",
      "Textile             573124\n",
      "Agriculture         417029\n",
      "Name: Amount, dtype: int64\n"
     ]
    }
   ],
   "source": [
    "print(occupation_spending)"
   ]
  },
  {
   "cell_type": "code",
   "execution_count": 29,
   "id": "8ad39e9e-692c-4e1b-ab35-a6cb871010a4",
   "metadata": {},
   "outputs": [],
   "source": [
    "marital_summary = df.groupby('Marital_Status')[['Orders', 'Amount']].sum()"
   ]
  },
  {
   "cell_type": "code",
   "execution_count": 30,
   "id": "63cf5921-67e8-447f-9a63-0fcc718d6ad8",
   "metadata": {},
   "outputs": [
    {
     "name": "stdout",
     "output_type": "stream",
     "text": [
      "                Orders    Amount\n",
      "Marital_Status                  \n",
      "No                1573  12504398\n",
      "Yes               1072   8611118\n"
     ]
    }
   ],
   "source": [
    "print(marital_summary)"
   ]
  },
  {
   "cell_type": "code",
   "execution_count": 31,
   "id": "c878c458-7974-4224-8440-569d15c110ed",
   "metadata": {},
   "outputs": [],
   "source": [
    "df.to_csv('retail_data_cleaned.csv', index=False)"
   ]
  },
  {
   "cell_type": "code",
   "execution_count": null,
   "id": "1ac2b299-bb4e-44ba-86be-22e3e29c21ab",
   "metadata": {},
   "outputs": [],
   "source": [
    "print (1+2)"
   ]
  },
  {
   "cell_type": "code",
   "execution_count": null,
   "id": "99d1b012",
   "metadata": {},
   "outputs": [],
   "source": []
  }
 ],
 "metadata": {
  "kernelspec": {
   "display_name": "Python 3 (ipykernel)",
   "language": "python",
   "name": "python3"
  },
  "language_info": {
   "codemirror_mode": {
    "name": "ipython",
    "version": 3
   },
   "file_extension": ".py",
   "mimetype": "text/x-python",
   "name": "python",
   "nbconvert_exporter": "python",
   "pygments_lexer": "ipython3",
   "version": "3.13.2"
  }
 },
 "nbformat": 4,
 "nbformat_minor": 5
}
